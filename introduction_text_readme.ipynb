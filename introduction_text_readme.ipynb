{
 "cells": [
  {
   "cell_type": "markdown",
   "id": "2e998233-dde7-40da-ba2e-5546238304bb",
   "metadata": {},
   "source": [
    "# Identifikace Jazyka"
   ]
  },
  {
   "cell_type": "markdown",
   "id": "5f800eca-3747-4f59-bcda-14c8ea9272df",
   "metadata": {},
   "source": [
    "## Data"
   ]
  },
  {
   "cell_type": "markdown",
   "id": "49584b4f-1c98-47f3-9c05-f13b5370f1a2",
   "metadata": {},
   "source": [
    "Data jsou zpracovány z webové stránky https://www.gutenberg.org/browse/languages/nl, kde jsou vybrány data ze tří jazyků - angličtiny,holandštiny a italštiny. \n",
    "\n",
    "Data pro angličtinu byly zpracovány z webovek:\n",
    "\n",
    "https://www.gutenberg.org/cache/epub/75783/pg75783-images.html\n",
    "https://www.gutenberg.org/cache/epub/75780/pg75780-images.html\n",
    "https://www.gutenberg.org/cache/epub/8420/pg8420-images.html\n",
    "https://www.gutenberg.org/cache/epub/75781/pg75781 images.html\n",
    "https://www.gutenberg.org/cache/epub/1237/pg1237-images.html\n",
    "\n",
    "Data pro holandštinu jsou zpracovány z:\n",
    "\n",
    "https://www.gutenberg.org/cache/epub/61324/pg61324-images.html\n",
    "https://www.gutenberg.org/cache/epub/58563/pg58563-images.html\n",
    "https://www.gutenberg.org/cache/epub/48413/pg48413-images.html\n",
    "https://www.gutenberg.org/cache/epub/65697/pg65697-images.html\n",
    "https://www.gutenberg.org/cache/epub/63728/pg63728-images.html\n",
    "\n",
    "Data pro italštinu jsou zpracovány z:\n",
    "\n",
    "https://www.gutenberg.org/cache/epub/21425/pg21425-images.html\n",
    "https://www.gutenberg.org/cache/epub/38637/pg38637-images.html\n",
    "https://www.gutenberg.org/cache/epub/50674/pg50674-images.html\n",
    "https://www.gutenberg.org/cache/epub/49626/pg49626-images.html\n",
    "https://www.gutenberg.org/cache/epub/56890/pg56890-images.html"
   ]
  },
  {
   "cell_type": "markdown",
   "id": "b307a7ea-c0b9-474e-9f6f-0a36aa3f7523",
   "metadata": {},
   "source": [
    "## Informace o datech"
   ]
  },
  {
   "cell_type": "markdown",
   "id": "eb88a2cf-af02-42eb-8acc-ecb90cc50a11",
   "metadata": {},
   "source": [
    "Data jsou postupně stažená z webové stránky a čištěna od nečistých dat, kde čistě data považujeme LATIN písmena. Počet získaných tokenů na jazyk jsou rozloženy rovnoměrně a počet tokenů získané pomocí knihovny Sacremoses je po řadě jazyků 322607,322607,322620 a velikost v bytech 2860824,2582328,2875224."
   ]
  },
  {
   "cell_type": "markdown",
   "id": "5aa3d570-d213-47f1-829e-4c083bed39e0",
   "metadata": {},
   "source": [
    "Data byly rozděleny v poměru 80 procent,10 procent, a zbytek po řade na trénovací,heldout a testovací data."
   ]
  },
  {
   "cell_type": "markdown",
   "id": "f2854238-ee16-4e35-848c-45f224d9c420",
   "metadata": {},
   "source": [
    "## ngramy"
   ]
  },
  {
   "cell_type": "markdown",
   "id": "14bb13ce-e0ca-41d1-bfb4-ece54eb9be3c",
   "metadata": {},
   "source": [
    "Pro každý jazyk jsme vypočítali pravděpodobnost unigramů,bigramů a trigramů pomocí vzorce P = c(h,w) / c(h), kde pro unigram P = c(w) / c(všech unigramů).\n",
    "\n",
    "Pět nejčastějších trigramů angličtiny: the,and,her,hat,tha\n",
    "\n",
    "Pět nejčastějších trigramů holandštiny: een,den,aar,het,zij\n",
    "\n",
    "Pět nejčastějších trigramů italštiny: che,ell,lla,del,per"
   ]
  },
  {
   "cell_type": "markdown",
   "id": "f136decf-2ccc-40b1-83d2-4e6363c7041c",
   "metadata": {},
   "source": [
    "## Smoothing"
   ]
  },
  {
   "cell_type": "markdown",
   "id": "73d6c221-b83c-48db-8370-5134cca1ef48",
   "metadata": {},
   "source": [
    "Použiejem vzorec P(wIh) = ( c(w,h) + lambda) / (c(h) + lambda*V), kde lambdu zvolíme, tak aby trigramy v heldout datech měli co nejmenší cross entropii.\n",
    "\n",
    "nejlepší lambda pro angličtinu,holandštinu, je zvolena: 0.001"
   ]
  },
  {
   "cell_type": "markdown",
   "id": "4e169d2a-0322-41d6-8c83-c7abe8419b19",
   "metadata": {},
   "source": [
    "## Testování"
   ]
  },
  {
   "cell_type": "markdown",
   "id": "719e3190-0c46-44ea-a41c-548045498eaa",
   "metadata": {},
   "source": [
    "Cross entropie na trénovacích datech jsou\n",
    "\n",
    "angličtina: 5.1561375174680695\n",
    "\n",
    "holandština: 4.525547780503082\n",
    "\n",
    "italština: 5.082175549172737\n",
    "\n",
    "\n",
    "A máme vytvořenou funkci Classificator.predict(languages,input_filename) na libovolně zvolený text, kde je nutné vyplnit text unknown.txt zvoleným textem. Testy na testových datech vyšli správně a"
   ]
  }
 ],
 "metadata": {
  "kernelspec": {
   "display_name": "Python 3 (ipykernel)",
   "language": "python",
   "name": "python3"
  },
  "language_info": {
   "codemirror_mode": {
    "name": "ipython",
    "version": 3
   },
   "file_extension": ".py",
   "mimetype": "text/x-python",
   "name": "python",
   "nbconvert_exporter": "python",
   "pygments_lexer": "ipython3",
   "version": "3.10.0"
  }
 },
 "nbformat": 4,
 "nbformat_minor": 5
}
